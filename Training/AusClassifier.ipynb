{
  "cells": [
    {
      "cell_type": "code",
      "execution_count": 2,
      "metadata": {
        "id": "NkGkYldFR13N"
      },
      "outputs": [],
      "source": [
        "import numpy as np\n",
        "import cv2\n",
        "import os\n",
        "import shutil\n",
        "from google.colab import files"
      ]
    },
    {
      "cell_type": "code",
      "execution_count": 3,
      "metadata": {
        "id": "eBO8_G62dxU5"
      },
      "outputs": [],
      "source": [
        "face_cascade = cv2.CascadeClassifier('./haarcascade_frontalface_default.xml')\n",
        "eye_cascade = cv2.CascadeClassifier('./haarcascade_eye.xml')"
      ]
    },
    {
      "cell_type": "code",
      "execution_count": 4,
      "metadata": {
        "id": "I8vHhEOyfgvY"
      },
      "outputs": [],
      "source": [
        "def get_cropped_image_if_2_eyes(image_path):\n",
        "    img = cv2.imread(image_path)\n",
        "    gray = cv2.cvtColor(img, cv2.COLOR_BGR2GRAY)\n",
        "    faces = face_cascade.detectMultiScale(gray, 1.3, 5)\n",
        "    for (x,y,w,h) in faces:\n",
        "        roi_gray = gray[y:y+h, x:x+w]\n",
        "        roi_color = img[y:y+h, x:x+w]\n",
        "        eyes = eye_cascade.detectMultiScale(roi_gray)\n",
        "        if len(eyes) >= 2:\n",
        "            return roi_color"
      ]
    },
    {
      "cell_type": "code",
      "execution_count": 5,
      "metadata": {
        "id": "cEtQivTVf34e"
      },
      "outputs": [],
      "source": [
        "path_to_data = \"./dataset/\"\n",
        "path_to_cr_data = \"./dataset/cropped/\""
      ]
    },
    {
      "cell_type": "code",
      "execution_count": 12,
      "metadata": {
        "id": "cqT9SGUS2AaY"
      },
      "outputs": [],
      "source": [
        "img_dirs = []\n",
        "for entry in os.scandir(path_to_data):\n",
        "    if entry.is_dir():\n",
        "        img_dirs.append(entry.path)"
      ]
    },
    {
      "cell_type": "code",
      "execution_count": 13,
      "metadata": {
        "colab": {
          "base_uri": "https://localhost:8080/"
        },
        "id": "zAKBa7QM2CeM",
        "outputId": "c51c24e3-dc2b-47e7-9548-b432c1c2a05d"
      },
      "outputs": [
        {
          "output_type": "execute_result",
          "data": {
            "text/plain": [
              "['./dataset/Warner', './dataset/Maxwell', './dataset/Cummins']"
            ]
          },
          "metadata": {},
          "execution_count": 13
        }
      ],
      "source": [
        "img_dirs"
      ]
    },
    {
      "cell_type": "code",
      "execution_count": 14,
      "metadata": {
        "id": "PzI-kmJC2EHB"
      },
      "outputs": [],
      "source": [
        "if os.path.exists(path_to_cr_data):\n",
        "     shutil.rmtree(path_to_cr_data)\n",
        "os.mkdir(path_to_cr_data)"
      ]
    },
    {
      "cell_type": "code",
      "execution_count": 15,
      "metadata": {
        "colab": {
          "base_uri": "https://localhost:8080/"
        },
        "id": "khsNLsL42SRq",
        "outputId": "654b9dbe-a043-4607-9b97-e8471fe34f6f"
      },
      "outputs": [
        {
          "output_type": "stream",
          "name": "stdout",
          "text": [
            "Warner\n",
            "Generating cropped images in folder: ./dataset/cropped/Warner\n",
            "Maxwell\n",
            "Generating cropped images in folder: ./dataset/cropped/Maxwell\n",
            "Error: Unable to read image ./dataset/Maxwell/10633.gif\n",
            "Error: Unable to read image ./dataset/Maxwell/10228.svg\n",
            "Cummins\n",
            "Generating cropped images in folder: ./dataset/cropped/Cummins\n"
          ]
        }
      ],
      "source": [
        "# Function to detect and crop the face if two eyes are detected\n",
        "def get_cropped_image_if_2_eyes(image_path):\n",
        "    img = cv2.imread(image_path)\n",
        "    if img is None:\n",
        "        print(f\"Error: Unable to read image {image_path}\")\n",
        "        return None\n",
        "\n",
        "    gray = cv2.cvtColor(img, cv2.COLOR_BGR2GRAY)\n",
        "    faces = face_cascade.detectMultiScale(gray, 1.3, 5)\n",
        "\n",
        "    for (x, y, w, h) in faces:\n",
        "        roi_gray = gray[y:y+h, x:x+w]\n",
        "        eyes = eye_cascade.detectMultiScale(roi_gray)\n",
        "\n",
        "        if len(eyes) >= 2:\n",
        "            roi_color = img[y:y+h, x:x+w]\n",
        "            return roi_color\n",
        "    return None\n",
        "\n",
        "# Main code to process images\n",
        "cropped_image_dirs = []\n",
        "celebrity_file_names_dict = {}\n",
        "\n",
        "for img_dir in img_dirs:\n",
        "    count = 1\n",
        "    celebrity_name = img_dir.split('/')[-1]\n",
        "    print(celebrity_name)\n",
        "\n",
        "    celebrity_file_names_dict[celebrity_name] = []\n",
        "\n",
        "    for entry in os.scandir(img_dir):\n",
        "        if entry.is_file():  # Ensure the entry is a file\n",
        "            roi_color = get_cropped_image_if_2_eyes(entry.path)\n",
        "            if roi_color is not None:\n",
        "                cropped_folder = os.path.join(path_to_cr_data, celebrity_name)\n",
        "                if not os.path.exists(cropped_folder):\n",
        "                    os.makedirs(cropped_folder)\n",
        "                    cropped_image_dirs.append(cropped_folder)\n",
        "                    print(\"Generating cropped images in folder:\", cropped_folder)\n",
        "\n",
        "                cropped_file_name = f\"{celebrity_name}{count}.png\"\n",
        "                cropped_file_path = os.path.join(cropped_folder, cropped_file_name)\n",
        "\n",
        "                cv2.imwrite(cropped_file_path, roi_color)\n",
        "                celebrity_file_names_dict[celebrity_name].append(cropped_file_path)\n",
        "                count += 1"
      ]
    },
    {
      "cell_type": "code",
      "execution_count": 16,
      "metadata": {
        "colab": {
          "base_uri": "https://localhost:8080/",
          "height": 17
        },
        "id": "UtpIiUqN2fkz",
        "outputId": "83a47614-0226-4363-9631-a0520c5092de"
      },
      "outputs": [
        {
          "output_type": "display_data",
          "data": {
            "text/plain": [
              "<IPython.core.display.Javascript object>"
            ],
            "application/javascript": [
              "\n",
              "    async function download(id, filename, size) {\n",
              "      if (!google.colab.kernel.accessAllowed) {\n",
              "        return;\n",
              "      }\n",
              "      const div = document.createElement('div');\n",
              "      const label = document.createElement('label');\n",
              "      label.textContent = `Downloading \"${filename}\": `;\n",
              "      div.appendChild(label);\n",
              "      const progress = document.createElement('progress');\n",
              "      progress.max = size;\n",
              "      div.appendChild(progress);\n",
              "      document.body.appendChild(div);\n",
              "\n",
              "      const buffers = [];\n",
              "      let downloaded = 0;\n",
              "\n",
              "      const channel = await google.colab.kernel.comms.open(id);\n",
              "      // Send a message to notify the kernel that we're ready.\n",
              "      channel.send({})\n",
              "\n",
              "      for await (const message of channel.messages) {\n",
              "        // Send a message to notify the kernel that we're ready.\n",
              "        channel.send({})\n",
              "        if (message.buffers) {\n",
              "          for (const buffer of message.buffers) {\n",
              "            buffers.push(buffer);\n",
              "            downloaded += buffer.byteLength;\n",
              "            progress.value = downloaded;\n",
              "          }\n",
              "        }\n",
              "      }\n",
              "      const blob = new Blob(buffers, {type: 'application/binary'});\n",
              "      const a = document.createElement('a');\n",
              "      a.href = window.URL.createObjectURL(blob);\n",
              "      a.download = filename;\n",
              "      div.appendChild(a);\n",
              "      a.click();\n",
              "      div.remove();\n",
              "    }\n",
              "  "
            ]
          },
          "metadata": {}
        },
        {
          "output_type": "display_data",
          "data": {
            "text/plain": [
              "<IPython.core.display.Javascript object>"
            ],
            "application/javascript": [
              "download(\"download_6c49b8c6-116d-4a4c-9e84-527c43f55b3f\", \"cropped_images.zip\", 5675204)"
            ]
          },
          "metadata": {}
        }
      ],
      "source": [
        "# Define the path to your cropped folder\n",
        "cropped_folder_path = path_to_cr_data  # Update this to your actual cropped folder path\n",
        "\n",
        "# Define the name for the zip file\n",
        "zip_file_name = 'cropped_images.zip'\n",
        "\n",
        "# Zip the cropped folder\n",
        "shutil.make_archive(zip_file_name.replace('.zip', ''), 'zip', cropped_folder_path)\n",
        "\n",
        "# Download the zip file\n",
        "files.download(zip_file_name)"
      ]
    }
  ],
  "metadata": {
    "colab": {
      "provenance": []
    },
    "kernelspec": {
      "display_name": "Python 3",
      "name": "python3"
    }
  },
  "nbformat": 4,
  "nbformat_minor": 0
}